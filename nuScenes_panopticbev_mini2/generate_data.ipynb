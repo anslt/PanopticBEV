{
 "cells": [
  {
   "cell_type": "code",
   "execution_count": 2,
   "metadata": {},
   "outputs": [],
   "source": [
    "import umsgpack\n",
    "import json\n",
    "import os\n",
    "os.environ[\"KMP_DUPLICATE_LIB_OK\"]=\"True\"\n",
    "from PIL import Image\n",
    "import numpy as np\n",
    "import matplotlib.pyplot as plt\n",
    "%matplotlib inline\n",
    "plt.rcParams[\"figure.figsize\"] = (8,8)\n",
    "import torch\n",
    "import kornia"
   ]
  },
  {
   "cell_type": "code",
   "execution_count": 14,
   "metadata": {},
   "outputs": [],
   "source": [
    "PATH1 = \"metadata_ortho.bin\"\n",
    "with open(PATH1, 'rb') as f:\n",
    "    metadata = umsgpack.unpack(f, encoding=\"utf-8\")"
   ]
  },
  {
   "cell_type": "code",
   "execution_count": 30,
   "metadata": {},
   "outputs": [],
   "source": [
    "for idx, data in enumerate(metadata[\"images\"]):\n",
    "    if data[\"id\"] == \"005;singapore-onenorth;scene-0002;c3e0e9f6ee8d4170a3d22a6179f1ca3a;244e2876a6744249814936b24b6b03ea\":\n",
    "        break"
   ]
  },
  {
   "cell_type": "code",
   "execution_count": 31,
   "metadata": {},
   "outputs": [
    {
     "data": {
      "text/plain": [
       "45"
      ]
     },
     "execution_count": 31,
     "metadata": {},
     "output_type": "execute_result"
    }
   ],
   "source": [
    "idx"
   ]
  },
  {
   "cell_type": "code",
   "execution_count": 32,
   "metadata": {},
   "outputs": [],
   "source": [
    "new_metadata = []\n",
    "new_metadata += [metadata[\"images\"][0]]\n",
    "new_metadata += [metadata[\"images\"][45]]"
   ]
  },
  {
   "cell_type": "code",
   "execution_count": 22,
   "metadata": {},
   "outputs": [
    {
     "data": {
      "text/plain": [
       "{'id': '000;singapore-onenorth;scene-0001;73030fb67d3c46cfb5e590168088ae39;e93e98b63d3b40209056d129dc53ceee',\n",
       " 'cat': [255, 0, 1, 2, 3, 4, 5, 8],\n",
       " 'size': [896, 768],\n",
       " 'iscrowd': [0, 0, 0, 0, 0, 0, 0, 0],\n",
       " 'cam_extrinsic_translation': [1.70079118954, 0.0159456324149, 1.51095763913],\n",
       " 'cam_extrinsic_rotation': [0.4998015430569128,\n",
       "  -0.5030316162024876,\n",
       "  0.4997798114386805,\n",
       "  -0.49737083824542755],\n",
       " 'cam_intrinsic': [[1266.417203046554, 0.0, 816.2670197447984],\n",
       "  [0.0, 1266.417203046554, 491.50706579294757],\n",
       "  [0.0, 0.0, 1.0]]}"
      ]
     },
     "execution_count": 22,
     "metadata": {},
     "output_type": "execute_result"
    }
   ],
   "source": [
    "metadata[\"images\"][0]"
   ]
  },
  {
   "cell_type": "code",
   "execution_count": 34,
   "metadata": {},
   "outputs": [],
   "source": [
    "metadata[\"images\"] = new_metadata"
   ]
  },
  {
   "cell_type": "code",
   "execution_count": 35,
   "metadata": {},
   "outputs": [
    {
     "data": {
      "text/plain": [
       "{'images': [{'id': '000;singapore-onenorth;scene-0001;73030fb67d3c46cfb5e590168088ae39;e93e98b63d3b40209056d129dc53ceee',\n",
       "   'cat': [255, 0, 1, 2, 3, 4, 5, 8],\n",
       "   'size': [896, 768],\n",
       "   'iscrowd': [0, 0, 0, 0, 0, 0, 0, 0],\n",
       "   'cam_extrinsic_translation': [1.70079118954,\n",
       "    0.0159456324149,\n",
       "    1.51095763913],\n",
       "   'cam_extrinsic_rotation': [0.4998015430569128,\n",
       "    -0.5030316162024876,\n",
       "    0.4997798114386805,\n",
       "    -0.49737083824542755],\n",
       "   'cam_intrinsic': [[1266.417203046554, 0.0, 816.2670197447984],\n",
       "    [0.0, 1266.417203046554, 491.50706579294757],\n",
       "    [0.0, 0.0, 1.0]]},\n",
       "  {'id': '005;singapore-onenorth;scene-0002;c3e0e9f6ee8d4170a3d22a6179f1ca3a;244e2876a6744249814936b24b6b03ea',\n",
       "   'cat': [255, 0, 2, 3, 4, 5, 6, 6, 6, 6, 7, 7, 8, 8],\n",
       "   'size': [896, 768],\n",
       "   'iscrowd': [0, 0, 0, 0, 0, 0, 0, 0, 0, 0, 0, 0, 0, 0],\n",
       "   'cam_extrinsic_translation': [1.70079118954,\n",
       "    0.0159456324149,\n",
       "    1.51095763913],\n",
       "   'cam_extrinsic_rotation': [0.4998015430569128,\n",
       "    -0.5030316162024876,\n",
       "    0.4997798114386805,\n",
       "    -0.49737083824542755],\n",
       "   'cam_intrinsic': [[1266.417203046554, 0.0, 816.2670197447984],\n",
       "    [0.0, 1266.417203046554, 491.50706579294757],\n",
       "    [0.0, 0.0, 1.0]]}],\n",
       " 'meta': {'num_stuff': 6,\n",
       "  'num_thing': 4,\n",
       "  'categories': ['flat.driveable_surface',\n",
       "   'flat.sidewalk',\n",
       "   'static.manmade',\n",
       "   'static.vegetation',\n",
       "   'flat.terrain',\n",
       "   'occlusion',\n",
       "   'human.pedestrian.adult',\n",
       "   'vehicle.car',\n",
       "   'vehicle.truck',\n",
       "   'vehicle.motorcycle'],\n",
       "  'palette': [[128, 64, 128],\n",
       "   [244, 35, 232],\n",
       "   [70, 70, 70],\n",
       "   [107, 142, 35],\n",
       "   [152, 251, 152],\n",
       "   [140, 140, 140],\n",
       "   [220, 20, 60],\n",
       "   [0, 0, 142],\n",
       "   [0, 0, 70],\n",
       "   [0, 0, 230]],\n",
       "  'original_ids': [4, 5, 6, 7, 8, 100, 10, 18, 21, 26]}}"
      ]
     },
     "execution_count": 35,
     "metadata": {},
     "output_type": "execute_result"
    }
   ],
   "source": [
    "metadata"
   ]
  },
  {
   "cell_type": "code",
   "execution_count": 36,
   "metadata": {},
   "outputs": [],
   "source": [
    "code = umsgpack.packb(metadata)"
   ]
  },
  {
   "cell_type": "code",
   "execution_count": 37,
   "metadata": {},
   "outputs": [
    {
     "data": {
      "text/plain": [
       "b'\\x82\\xa6images\\x92\\x87\\xa2id\\xd9c000;singapore-onenorth;scene-0001;73030fb67d3c46cfb5e590168088ae39;e93e98b63d3b40209056d129dc53ceee\\xa3cat\\x98\\xcc\\xff\\x00\\x01\\x02\\x03\\x04\\x05\\x08\\xa4size\\x92\\xcd\\x03\\x80\\xcd\\x03\\x00\\xa7iscrowd\\x98\\x00\\x00\\x00\\x00\\x00\\x00\\x00\\x00\\xb9cam_extrinsic_translation\\x93\\xcb?\\xfb6p\\xd2\\x86cG\\xcb?\\x90T\\rF\\xf1\\xb2\\xa3\\xcb?\\xf8,\\xe1\\xea\\xdbF\\x88\\xb6cam_extrinsic_rotation\\x94\\xcb?\\xdf\\xfc\\xbf\\x9cz\\xdd\\x9e\\xcb\\xbf\\xe0\\x18\\xd5\\xc2\\x8e2\\xdb\\xcb?\\xdf\\xfcdvU!\\xa9\\xcb\\xbf\\xdf\\xd4\\xec\\x7f\\x0f\\xe2\\xcb\\xadcam_intrinsic\\x93\\x93\\xcb@\\x93\\xc9\\xab7F\\x82\\xf7\\xcb\\x00\\x00\\x00\\x00\\x00\\x00\\x00\\x00\\xcb@\\x89\\x82\"\\xdb?z]\\x93\\xcb\\x00\\x00\\x00\\x00\\x00\\x00\\x00\\x00\\xcb@\\x93\\xc9\\xab7F\\x82\\xf7\\xcb@~\\xb8\\x1c\\xf1\\x05Z\\x15\\x93\\xcb\\x00\\x00\\x00\\x00\\x00\\x00\\x00\\x00\\xcb\\x00\\x00\\x00\\x00\\x00\\x00\\x00\\x00\\xcb?\\xf0\\x00\\x00\\x00\\x00\\x00\\x00\\x87\\xa2id\\xd9c005;singapore-onenorth;scene-0002;c3e0e9f6ee8d4170a3d22a6179f1ca3a;244e2876a6744249814936b24b6b03ea\\xa3cat\\x9e\\xcc\\xff\\x00\\x02\\x03\\x04\\x05\\x06\\x06\\x06\\x06\\x07\\x07\\x08\\x08\\xa4size\\x92\\xcd\\x03\\x80\\xcd\\x03\\x00\\xa7iscrowd\\x9e\\x00\\x00\\x00\\x00\\x00\\x00\\x00\\x00\\x00\\x00\\x00\\x00\\x00\\x00\\xb9cam_extrinsic_translation\\x93\\xcb?\\xfb6p\\xd2\\x86cG\\xcb?\\x90T\\rF\\xf1\\xb2\\xa3\\xcb?\\xf8,\\xe1\\xea\\xdbF\\x88\\xb6cam_extrinsic_rotation\\x94\\xcb?\\xdf\\xfc\\xbf\\x9cz\\xdd\\x9e\\xcb\\xbf\\xe0\\x18\\xd5\\xc2\\x8e2\\xdb\\xcb?\\xdf\\xfcdvU!\\xa9\\xcb\\xbf\\xdf\\xd4\\xec\\x7f\\x0f\\xe2\\xcb\\xadcam_intrinsic\\x93\\x93\\xcb@\\x93\\xc9\\xab7F\\x82\\xf7\\xcb\\x00\\x00\\x00\\x00\\x00\\x00\\x00\\x00\\xcb@\\x89\\x82\"\\xdb?z]\\x93\\xcb\\x00\\x00\\x00\\x00\\x00\\x00\\x00\\x00\\xcb@\\x93\\xc9\\xab7F\\x82\\xf7\\xcb@~\\xb8\\x1c\\xf1\\x05Z\\x15\\x93\\xcb\\x00\\x00\\x00\\x00\\x00\\x00\\x00\\x00\\xcb\\x00\\x00\\x00\\x00\\x00\\x00\\x00\\x00\\xcb?\\xf0\\x00\\x00\\x00\\x00\\x00\\x00\\xa4meta\\x85\\xa9num_stuff\\x06\\xa9num_thing\\x04\\xaacategories\\x9a\\xb6flat.driveable_surface\\xadflat.sidewalk\\xaestatic.manmade\\xb1static.vegetation\\xacflat.terrain\\xa9occlusion\\xb6human.pedestrian.adult\\xabvehicle.car\\xadvehicle.truck\\xb2vehicle.motorcycle\\xa7palette\\x9a\\x93\\xcc\\x80@\\xcc\\x80\\x93\\xcc\\xf4#\\xcc\\xe8\\x93FFF\\x93k\\xcc\\x8e#\\x93\\xcc\\x98\\xcc\\xfb\\xcc\\x98\\x93\\xcc\\x8c\\xcc\\x8c\\xcc\\x8c\\x93\\xcc\\xdc\\x14<\\x93\\x00\\x00\\xcc\\x8e\\x93\\x00\\x00F\\x93\\x00\\x00\\xcc\\xe6\\xacoriginal_ids\\x9a\\x04\\x05\\x06\\x07\\x08d\\n\\x12\\x15\\x1a'"
      ]
     },
     "execution_count": 37,
     "metadata": {},
     "output_type": "execute_result"
    }
   ],
   "source": [
    "code"
   ]
  },
  {
   "cell_type": "code",
   "execution_count": 11,
   "metadata": {},
   "outputs": [
    {
     "data": {
      "text/plain": [
       "b'\\x82\\xa6images\\x90\\xa4meta\\x85\\xa9num_stuff\\x07\\xa9num_thing\\x04\\xaacategories\\x9b\\xb6flat.driveable_surface\\xadflat.sidewalk\\xaestatic.manmade\\xb1static.vegetation\\xacflat.terrain\\xa3sky\\xa9occlusion\\xb6human.pedestrian.adult\\xabvehicle.car\\xadvehicle.truck\\xb2vehicle.motorcycle\\xa7palette\\x9b\\x93\\xcc\\x80@\\xcc\\x80\\x93\\xcc\\xf4#\\xcc\\xe8\\x93FFF\\x93k\\xcc\\x8e#\\x93\\xcc\\x98\\xcc\\xfb\\xcc\\x98\\x93F\\xcc\\x82\\xcc\\xb4\\x93\\xcc\\x8c\\xcc\\x8c\\xcc\\x8c\\x93\\xcc\\xdc\\x14<\\x93\\x00\\x00\\xcc\\x8e\\x93\\x00\\x00F\\x93\\x00\\x00\\xcc\\xe6\\xacoriginal_ids\\x9b\\x04\\x05\\x06\\x07\\x08\\td\\n\\x12\\x15\\x1a'"
      ]
     },
     "execution_count": 11,
     "metadata": {},
     "output_type": "execute_result"
    }
   ],
   "source": [
    "# f = open(PATH1, 'rb')\n",
    "# byte_meta = f.read()\n",
    "# string_meta = byte_meta.decode(\"utf-8\",errors=\"ignore\") \n",
    "# byte_meta"
   ]
  },
  {
   "cell_type": "code",
   "execution_count": 38,
   "metadata": {},
   "outputs": [],
   "source": [
    "file = open(\"metadata_ortho2.bin\", \"wb\")\n",
    "file.write(code)\n",
    "file.close()"
   ]
  },
  {
   "cell_type": "code",
   "execution_count": 13,
   "metadata": {},
   "outputs": [
    {
     "data": {
      "text/plain": [
       "b'\\x82\\xa6images\\x90\\xa4meta\\x85\\xa9num_stuff\\x07\\xa9num_thing\\x04\\xaacategories\\x9b\\xb6flat.driveable_surface\\xadflat.sidewalk\\xaestatic.manmade\\xb1static.vegetation\\xacflat.terrain\\xa3sky\\xa9occlusion\\xb6human.pedestrian.adult\\xabvehicle.car\\xadvehicle.truck\\xb2vehicle.motorcycle\\xa7palette\\x9b\\x93\\xcc\\x80@\\xcc\\x80\\x93\\xcc\\xf4#\\xcc\\xe8\\x93FFF\\x93k\\xcc\\x8e#\\x93\\xcc\\x98\\xcc\\xfb\\xcc\\x98\\x93F\\xcc\\x82\\xcc\\xb4\\x93\\xcc\\x8c\\xcc\\x8c\\xcc\\x8c\\x93\\xcc\\xdc\\x14<\\x93\\x00\\x00\\xcc\\x8e\\x93\\x00\\x00F\\x93\\x00\\x00\\xcc\\xe6\\xacoriginal_ids\\x9b\\x04\\x05\\x06\\x07\\x08\\td\\n\\x12\\x15\\x1a'"
      ]
     },
     "execution_count": 13,
     "metadata": {},
     "output_type": "execute_result"
    }
   ],
   "source": [
    "f = open(\"sample.bin\", 'rb')\n",
    "byte_meta = f.read()\n",
    "string_meta = byte_meta.decode(\"utf-8\",errors=\"ignore\") \n",
    "byte_meta"
   ]
  },
  {
   "cell_type": "code",
   "execution_count": null,
   "metadata": {},
   "outputs": [],
   "source": []
  }
 ],
 "metadata": {
  "kernelspec": {
   "display_name": "Python [conda env:panoptic_bev]",
   "language": "python",
   "name": "conda-env-panoptic_bev-py"
  },
  "language_info": {
   "codemirror_mode": {
    "name": "ipython",
    "version": 3
   },
   "file_extension": ".py",
   "mimetype": "text/x-python",
   "name": "python",
   "nbconvert_exporter": "python",
   "pygments_lexer": "ipython3",
   "version": "3.9.9"
  }
 },
 "nbformat": 4,
 "nbformat_minor": 4
}
